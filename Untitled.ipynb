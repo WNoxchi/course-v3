{
 "cells": [
  {
   "cell_type": "code",
   "execution_count": 1,
   "metadata": {},
   "outputs": [],
   "source": [
    "from pathlib import Path"
   ]
  },
  {
   "cell_type": "code",
   "execution_count": 4,
   "metadata": {},
   "outputs": [
    {
     "name": "stdout",
     "output_type": "stream",
     "text": [
      "/Users/WayNoxchi/Deshar/course-v3\r\n"
     ]
    }
   ],
   "source": [
    "!pwd"
   ]
  },
  {
   "cell_type": "code",
   "execution_count": 5,
   "metadata": {},
   "outputs": [
    {
     "data": {
      "text/plain": [
       "[PosixPath('/Users/WayNoxchi/data/mnist'),\n",
       " PosixPath('/Users/WayNoxchi/data/.DS_Store'),\n",
       " PosixPath('/Users/WayNoxchi/data/aircraft'),\n",
       " PosixPath('/Users/WayNoxchi/data/cifar-10-batches-py'),\n",
       " PosixPath('/Users/WayNoxchi/data/planet_names.csv'),\n",
       " PosixPath('/Users/WayNoxchi/data/VOCtrainval_11-May-2012.tar'),\n",
       " PosixPath('/Users/WayNoxchi/data/datasets'),\n",
       " PosixPath('/Users/WayNoxchi/data/planetnames.rtf'),\n",
       " PosixPath('/Users/WayNoxchi/data/competitions'),\n",
       " PosixPath('/Users/WayNoxchi/data/PASCAL_VOC'),\n",
       " PosixPath('/Users/WayNoxchi/data/cifar10_tmp'),\n",
       " PosixPath('/Users/WayNoxchi/data/nietzschenietzsche.txt'),\n",
       " PosixPath('/Users/WayNoxchi/data/cifar-10-python.tar.gz'),\n",
       " PosixPath('/Users/WayNoxchi/data/glove.6B.50d.txt.zip'),\n",
       " PosixPath('/Users/WayNoxchi/data/cifar10')]"
      ]
     },
     "execution_count": 5,
     "metadata": {},
     "output_type": "execute_result"
    }
   ],
   "source": [
    "list((Path().home()/'data').iterdir())"
   ]
  },
  {
   "cell_type": "code",
   "execution_count": 6,
   "metadata": {},
   "outputs": [],
   "source": [
    "path = Path().home()/'data/aircraft'"
   ]
  },
  {
   "cell_type": "code",
   "execution_count": 9,
   "metadata": {},
   "outputs": [
    {
     "name": "stdout",
     "output_type": "stream",
     "text": [
      "f16\n",
      "su24\n",
      "mig29\n",
      "su22\n",
      "su25\n",
      "mig21\n",
      "fa18ef\n",
      "f4\n",
      "a10\n",
      "cargo\n",
      "f15e\n",
      "fighters\n",
      "f15c\n",
      "typhoon\n",
      "fa18c\n",
      "f35\n",
      "models\n",
      "su30\n",
      "su27\n",
      "tornado\n",
      "j20\n",
      "mig25\n",
      "rafale\n",
      "f14\n",
      "f22\n",
      "su57\n",
      "mig31\n",
      "su34\n",
      "jas39\n"
     ]
    }
   ],
   "source": [
    "for fp in path.iterdir():\n",
    "    if fp.is_dir(): print(fp.name)"
   ]
  },
  {
   "cell_type": "code",
   "execution_count": null,
   "metadata": {},
   "outputs": [],
   "source": []
  }
 ],
 "metadata": {
  "kernelspec": {
   "display_name": "Python [conda env:fastai]",
   "language": "python",
   "name": "conda-env-fastai-py"
  },
  "language_info": {
   "codemirror_mode": {
    "name": "ipython",
    "version": 3
   },
   "file_extension": ".py",
   "mimetype": "text/x-python",
   "name": "python",
   "nbconvert_exporter": "python",
   "pygments_lexer": "ipython3",
   "version": "3.7.0"
  }
 },
 "nbformat": 4,
 "nbformat_minor": 2
}
